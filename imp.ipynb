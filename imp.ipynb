{
 "cells": [
  {
   "cell_type": "code",
   "execution_count": 1,
   "id": "e6b0b55c",
   "metadata": {},
   "outputs": [],
   "source": [
    "from scapy.all import * \n",
    "from scapy.all import ICMP, IP\n",
    "import time\n",
    "import statistics"
   ]
  },
  {
   "cell_type": "markdown",
   "id": "a2677e2b",
   "metadata": {},
   "source": [
    "Creamos una función ping que envía echo_request al host pasado por parámetro. La función devuelve un diccionario que contiene la siguiente información:\n",
    "\n",
    "* dst: Host contactado\n",
    "* response: True si se obtuvo respuesta; False en caso contrario\n",
    "* rtt_ms: RTT en milisegundos (None si no se obtuvo respuesta)\n",
    "* len: Longitud del paquete recibido (None si no se obtuvo respuesta)\n",
    "* ttl: Time to live del paquete recibido (None si no se obtuvo respuesta)\n"
   ]
  },
  {
   "cell_type": "code",
   "execution_count": 2,
   "id": "b2542d34",
   "metadata": {},
   "outputs": [],
   "source": [
    "def ping(host):\n",
    "\n",
    "    data = dict()\n",
    "    data[\"dst\"] = host\n",
    "\n",
    "    print(f\"Pinging {host}...\")\n",
    "    packet = IP(dst=host)/ICMP()\n",
    "    response = sr1(packet, timeout=10, verbose=False) # sr1: envío y espero una sola respuesta\n",
    "    inicio = time.time()\n",
    "    if response:\n",
    "        fin = time.time()\n",
    "        rtt_ms = (fin - inicio) * 1000\n",
    "        print(f\"Respuesta recibida de {host}\")\n",
    "        # response.show()\n",
    "        # print(response.len)\n",
    "        # print(f\"Tiempo de respuesta: {total_ms} milisegundos\")\n",
    "        \n",
    "        data[\"response\"] = True\n",
    "        data[\"rtt_ms\"] = rtt_ms\n",
    "        data[\"len\"] = response.len\n",
    "        data[\"ttl\"] = response.ttl\n",
    "\n",
    "    else:\n",
    "        print(f\"No se obtuvo respuesta de {host}\")\n",
    "        data[\"response\"] = False\n",
    "        data[\"rtt_ms\"] = None\n",
    "        data[\"len\"] = None\n",
    "        data[\"ttl\"] = None\n",
    "    \n",
    "\n",
    "    return data"
   ]
  },
  {
   "cell_type": "markdown",
   "id": "12659f40",
   "metadata": {},
   "source": [
    "Probamos contactar a utdt.edu.ar"
   ]
  },
  {
   "cell_type": "code",
   "execution_count": 3,
   "id": "44f14bbb",
   "metadata": {},
   "outputs": [
    {
     "name": "stdout",
     "output_type": "stream",
     "text": [
      "Pinging utdt.edu.ar...\n",
      "Respuesta recibida de utdt.edu.ar\n"
     ]
    },
    {
     "data": {
      "text/plain": [
       "{'dst': 'utdt.edu.ar',\n",
       " 'response': True,\n",
       " 'rtt_ms': 0.0007152557373046875,\n",
       " 'len': 28,\n",
       " 'ttl': 56}"
      ]
     },
     "execution_count": 3,
     "metadata": {},
     "output_type": "execute_result"
    }
   ],
   "source": [
    "ping(\"utdt.edu.ar\")"
   ]
  },
  {
   "cell_type": "markdown",
   "id": "e6eabf03",
   "metadata": {},
   "source": [
    "Ahora, creamos una función que recibe un set de destinos a contactar. Devuelve un diccionario que contiene:\n",
    "* Cantidad de paquetes enviados\n",
    "* Cantidad de paquetes recibidos\n",
    "* Cantidad de paquetes perdidos\n",
    "* Porcentaje de paquetes perdidos\n",
    "* RTT promedio\n",
    "* RTT mínimo\n",
    "* RTT máximo\n",
    "* Desvío estándar del RTT promedio A QUE SE REFIERE?\n"
   ]
  },
  {
   "cell_type": "code",
   "execution_count": 4,
   "id": "b154d3de",
   "metadata": {},
   "outputs": [],
   "source": [
    "def ping_multiple_hosts(hosts):\n",
    "\n",
    "    res = dict()\n",
    "\n",
    "    sent_packets = len(hosts)\n",
    "    received_packets = 0\n",
    "    lost_packets = 0\n",
    "    total_rtt = 0\n",
    "    min_rtt = float('inf')\n",
    "    max_rtt = float('-inf')\n",
    "    \n",
    "    for host in hosts:\n",
    "        resultado = ping(host)\n",
    "\n",
    "        if resultado[\"response\"]: # Si se recibió respuesta\n",
    "            received_packets += 1\n",
    "            total_rtt += resultado[\"rtt_ms\"]\n",
    "            min_rtt = min(min_rtt, resultado[\"rtt_ms\"])\n",
    "            max_rtt = max(max_rtt, resultado[\"rtt_ms\"])\n",
    "        else:\n",
    "            lost_packets += 1\n",
    "    \n",
    "    if received_packets > 0:\n",
    "        average_rtt = total_rtt / received_packets\n",
    "\n",
    "    res[\"hosts\"] = hosts\n",
    "    res[\"sent_packets\"] = sent_packets\n",
    "    res[\"received_packets\"] = received_packets\n",
    "    res[\"lost_packets\"] = lost_packets\n",
    "    res[\"loss_percentage\"] = (lost_packets / sent_packets) \n",
    "    res[\"total_rtt\"] = total_rtt\n",
    "    res[\"min_time\"] = min_rtt if min_rtt != float('inf') else None\n",
    "    res[\"max_time\"] = max_rtt if max_rtt != float('-inf') else None\n",
    "    res[\"average_rtt\"] = average_rtt if received_packets > 0 else None\n",
    "    \n",
    "    return res"
   ]
  },
  {
   "cell_type": "code",
   "execution_count": 10,
   "id": "25497061",
   "metadata": {},
   "outputs": [
    {
     "name": "stdout",
     "output_type": "stream",
     "text": [
      "Pinging sydney.edu.au...\n",
      "Respuesta recibida de sydney.edu.au\n",
      "Pinging utdt.edu.ar...\n",
      "Respuesta recibida de utdt.edu.ar\n",
      "Pinging ie.edu...\n",
      "Respuesta recibida de ie.edu\n",
      "Pinging mit.edu...\n",
      "Respuesta recibida de mit.edu\n"
     ]
    },
    {
     "data": {
      "text/plain": [
       "{'hosts': {'ie.edu', 'mit.edu', 'sydney.edu.au', 'utdt.edu.ar'},\n",
       " 'sent_packets': 4,\n",
       " 'received_packets': 4,\n",
       " 'lost_packets': 0,\n",
       " 'loss_percentage': 0.0,\n",
       " 'total_rtt': 0.00286102294921875,\n",
       " 'min_time': 0.000476837158203125,\n",
       " 'max_time': 0.0011920928955078125,\n",
       " 'average_rtt': 0.0007152557373046875}"
      ]
     },
     "execution_count": 10,
     "metadata": {},
     "output_type": "execute_result"
    }
   ],
   "source": [
    "destinos = {\"utdt.edu.ar\", \"mit.edu\", \"ie.edu\", \"sydney.edu.au\"}\n",
    "\n",
    "ping_multiple_hosts(destinos)"
   ]
  }
 ],
 "metadata": {
  "kernelspec": {
   "display_name": "td6",
   "language": "python",
   "name": "python3"
  },
  "language_info": {
   "codemirror_mode": {
    "name": "ipython",
    "version": 3
   },
   "file_extension": ".py",
   "mimetype": "text/x-python",
   "name": "python",
   "nbconvert_exporter": "python",
   "pygments_lexer": "ipython3",
   "version": "3.13.2"
  }
 },
 "nbformat": 4,
 "nbformat_minor": 5
}
