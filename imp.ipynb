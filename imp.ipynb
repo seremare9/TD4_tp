{
 "cells": [
  {
   "cell_type": "code",
   "execution_count": null,
   "id": "e6b0b55c",
   "metadata": {},
   "outputs": [],
   "source": [
    "from scapy.all import * \n",
    "from scapy.all import ICMP, IP\n",
    "import time\n",
    "import statistics\n",
    "import matplotlib as plt\n",
    "import seaborn as sns"
   ]
  },
  {
   "cell_type": "markdown",
   "id": "a2677e2b",
   "metadata": {},
   "source": [
    "Creamos una función ping que envía echo_request al host pasado por parámetro. La función devuelve un diccionario que contiene la siguiente información:\n",
    "\n",
    "* dst: Host contactado\n",
    "* response: True si se obtuvo respuesta; False en caso contrario\n",
    "* rtt_us: RTT en microsegundos (None si no se obtuvo respuesta)\n",
    "* len: Longitud del paquete recibido (None si no se obtuvo respuesta)\n",
    "* ttl: Time to live del paquete recibido (None si no se obtuvo respuesta)\n"
   ]
  },
  {
   "cell_type": "code",
   "execution_count": null,
   "id": "b2542d34",
   "metadata": {},
   "outputs": [],
   "source": [
    "def ping(host): \n",
    "\n",
    "    codigos = {\n",
    "        0: \"Red de destino inalcanzable\",\n",
    "        1: \"Host de destino inalcanzable\",\n",
    "        2: \"Protocolo inalcanzable\",\n",
    "        3: \"Puerto inalcanzable\",\n",
    "        }\n",
    "    \n",
    "    # Creo diccionario con valores por defecto\n",
    "    data = {\n",
    "        \"dst\": host,\n",
    "        \"response_type\": None,\n",
    "        \"rtt_us\": None,\n",
    "        \"len\": None,\n",
    "        \"ttl\": None\n",
    "    }\n",
    "    \n",
    "    print(f\"Pinging {host}...\")\n",
    "    packet = IP(dst=host)/ICMP(type=8)\n",
    "    response = sr1(packet, timeout=10, verbose=False) # sr1: envío y espero una sola respuesta\n",
    "    inicio = time.time()\n",
    "    \n",
    "    if response:\n",
    "        fin = time.time()\n",
    "\n",
    "        if response.type == 3:\n",
    "            icmp_layer = response.getlayer(ICMP)\n",
    "            code = icmp_layer.code\n",
    "            print(f\"Destino {host} inalcanzable: \" + codigos[code])\n",
    "            data[\"response_type\"] = 3\n",
    "        \n",
    "        elif response.type == 0: # Si la respuesta es echo reply\n",
    "            rtt_mcs = (fin - inicio) * 1000000\n",
    "            print(f\"Respuesta recibida de {host}\")\n",
    "            data[\"response_type\"] = 0\n",
    "            data[\"rtt_us\"] = rtt_mcs\n",
    "            data[\"len\"] = response.len\n",
    "            data[\"ttl\"] = response.ttl\n",
    "\n",
    "    return data"
   ]
  },
  {
   "cell_type": "markdown",
   "id": "12659f40",
   "metadata": {},
   "source": [
    "Probamos contactar a utdt.edu.ar"
   ]
  },
  {
   "cell_type": "code",
   "execution_count": 3,
   "id": "44f14bbb",
   "metadata": {},
   "outputs": [
    {
     "name": "stdout",
     "output_type": "stream",
     "text": [
      "Pinging utdt.edu.ar...\n",
      "Respuesta recibida de utdt.edu.ar\n"
     ]
    },
    {
     "data": {
      "text/plain": [
       "{'dst': 'utdt.edu.ar',\n",
       " 'response_type': 0,\n",
       " 'rtt_us': 2.384185791015625,\n",
       " 'len': 28,\n",
       " 'ttl': 56}"
      ]
     },
     "execution_count": 3,
     "metadata": {},
     "output_type": "execute_result"
    }
   ],
   "source": [
    "ping(\"utdt.edu.ar\")"
   ]
  },
  {
   "cell_type": "markdown",
   "id": "e6eabf03",
   "metadata": {},
   "source": [
    "Ahora, creamos una función que recibe un set de destinos a contactar. Devuelve un diccionario que contiene:\n",
    "* Cantidad de paquetes enviados\n",
    "* Cantidad de paquetes recibidos\n",
    "* Cantidad de paquetes perdidos\n",
    "* Porcentaje de paquetes perdidos\n",
    "* RTT promedio\n",
    "* RTT mínimo\n",
    "* RTT máximo\n",
    "* Desvío estándar del RTT promedio\n"
   ]
  },
  {
   "cell_type": "code",
   "execution_count": 4,
   "id": "b154d3de",
   "metadata": {},
   "outputs": [],
   "source": [
    "def ping_multiple_hosts(hosts):\n",
    "\n",
    "    res = dict()\n",
    "    sent_packets = len(hosts)\n",
    "    received_packets = 0\n",
    "    lost_packets = 0\n",
    "    total_rtt = 0\n",
    "    min_rtt = float('inf')\n",
    "    max_rtt = float('-inf')\n",
    "    lista_rtts = []\n",
    "    \n",
    "    for host in hosts:\n",
    "        resultado = ping(host)\n",
    "        print(resultado)\n",
    "\n",
    "        if resultado[\"response_type\"] == 0: \n",
    "            received_packets += 1\n",
    "            total_rtt += resultado[\"rtt_us\"]\n",
    "            min_rtt = min(min_rtt, resultado[\"rtt_us\"])\n",
    "            max_rtt = max(max_rtt, resultado[\"rtt_us\"])\n",
    "            lista_rtts.append(resultado[\"rtt_us\"])\n",
    "\n",
    "        else:\n",
    "            lost_packets += 1\n",
    "    \n",
    "    if received_packets > 0:\n",
    "        average_rtt = total_rtt / received_packets\n",
    "\n",
    "    res[\"hosts\"] = hosts\n",
    "    res[\"sent_packets\"] = sent_packets\n",
    "    res[\"received_packets\"] = received_packets\n",
    "    res[\"lost_packets\"] = lost_packets\n",
    "    res[\"loss_percentage\"] = (lost_packets / sent_packets) \n",
    "    res[\"total_rtt\"] = total_rtt\n",
    "    res[\"min_rtt\"] = min_rtt if min_rtt != float('inf') else None\n",
    "    res[\"max_rtt\"] = max_rtt if max_rtt != float('-inf') else None\n",
    "    res[\"average_rtt\"] = average_rtt if received_packets > 0 else None\n",
    "    res[\"sd_rtt\"] = statistics.stdev(lista_rtts) if len(lista_rtts) > 1 else None\n",
    "    \n",
    "    return res"
   ]
  },
  {
   "cell_type": "markdown",
   "id": "c1b20695",
   "metadata": {},
   "source": [
    "Contactamos a 5 universidades de continentes distintos"
   ]
  },
  {
   "cell_type": "code",
   "execution_count": 5,
   "id": "25497061",
   "metadata": {},
   "outputs": [
    {
     "name": "stdout",
     "output_type": "stream",
     "text": [
      "Pinging sydney.edu.au...\n"
     ]
    },
    {
     "name": "stdout",
     "output_type": "stream",
     "text": [
      "Respuesta recibida de sydney.edu.au\n",
      "{'dst': 'sydney.edu.au', 'response_type': 0, 'rtt_us': 2.384185791015625, 'len': 28, 'ttl': 108}\n",
      "Pinging alexu.edu.eg...\n",
      "{'dst': 'alexu.edu.eg', 'response_type': None, 'rtt_us': None, 'len': None, 'ttl': None}\n",
      "Pinging cuhk.edu.cn...\n",
      "Respuesta recibida de cuhk.edu.cn\n",
      "{'dst': 'cuhk.edu.cn', 'response_type': 0, 'rtt_us': 1.9073486328125, 'len': 28, 'ttl': 113}\n",
      "Pinging mit.edu...\n",
      "Respuesta recibida de mit.edu\n",
      "{'dst': 'mit.edu', 'response_type': 0, 'rtt_us': 2.1457672119140625, 'len': 28, 'ttl': 51}\n",
      "Pinging ie.edu...\n",
      "Respuesta recibida de ie.edu\n",
      "{'dst': 'ie.edu', 'response_type': 0, 'rtt_us': 1.6689300537109375, 'len': 28, 'ttl': 247}\n"
     ]
    },
    {
     "data": {
      "text/plain": [
       "{'hosts': {'alexu.edu.eg',\n",
       "  'cuhk.edu.cn',\n",
       "  'ie.edu',\n",
       "  'mit.edu',\n",
       "  'sydney.edu.au'},\n",
       " 'sent_packets': 5,\n",
       " 'received_packets': 4,\n",
       " 'lost_packets': 1,\n",
       " 'loss_percentage': 0.2,\n",
       " 'total_rtt': 8.106231689453125,\n",
       " 'min_rtt': 1.6689300537109375,\n",
       " 'max_rtt': 2.384185791015625,\n",
       " 'average_rtt': 2.0265579223632812,\n",
       " 'sd_rtt': 0.30779706209559576}"
      ]
     },
     "execution_count": 5,
     "metadata": {},
     "output_type": "execute_result"
    }
   ],
   "source": [
    "\n",
    "destinos = {\"mit.edu\", \"ie.edu\", \"sydney.edu.au\", \"cuhk.edu.cn\", \"alexu.edu.eg\"}\n",
    "\n",
    "ping_multiple_hosts(destinos)"
   ]
  },
  {
   "cell_type": "markdown",
   "id": "4aebdfab",
   "metadata": {},
   "source": [
    "## Gráficos"
   ]
  },
  {
   "cell_type": "code",
   "execution_count": null,
   "id": "f41d1a99",
   "metadata": {},
   "outputs": [],
   "source": []
  }
 ],
 "metadata": {
  "kernelspec": {
   "display_name": "td6",
   "language": "python",
   "name": "python3"
  },
  "language_info": {
   "codemirror_mode": {
    "name": "ipython",
    "version": 3
   },
   "file_extension": ".py",
   "mimetype": "text/x-python",
   "name": "python",
   "nbconvert_exporter": "python",
   "pygments_lexer": "ipython3",
   "version": "3.13.2"
  }
 },
 "nbformat": 4,
 "nbformat_minor": 5
}
