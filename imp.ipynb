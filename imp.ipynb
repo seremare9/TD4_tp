{
 "cells": [
  {
   "cell_type": "code",
   "execution_count": null,
   "id": "e6b0b55c",
   "metadata": {},
   "outputs": [],
   "source": [
    "from scapy.all import * \n",
    "from scapy.all import ICMP, IP\n",
    "import time\n",
    "import statistics"
   ]
  },
  {
   "cell_type": "markdown",
   "id": "a2677e2b",
   "metadata": {},
   "source": [
    "Creamos una función ping que envía echo request al host pasado por parámetro. La función devuelve un diccionario que contiene el host contactado (dst) y:\n",
    "* Tipo de respuesta ICMP recibida (response_type)\n",
    "* RTT en milisegundos (rtt_ms)\n",
    "* Longitud del paquete recibido (len)\n",
    "* Time to live del paquete recibido (ttl) \n",
    "\n",
    "El valor para estas claves es None si no se obtuvo respuesta."
   ]
  },
  {
   "cell_type": "code",
   "execution_count": 4,
   "id": "b2542d34",
   "metadata": {},
   "outputs": [],
   "source": [
    "def ping(host): \n",
    "\n",
    "    # Diccionario de códigos ICMP para respuestas de tipo 3 (Destino inalcanzable)\n",
    "    codigos = {\n",
    "        0: \"Red de destino inalcanzable\",\n",
    "        1: \"Host de destino inalcanzable\",\n",
    "        2: \"Protocolo inalcanzable\",\n",
    "        3: \"Puerto inalcanzable\",\n",
    "        4: \"Fragmentación requerida y DF activado\",\n",
    "        5: \"Ruta de origen fallida\"}\n",
    "    \n",
    "    # Creo diccionario con valores por defecto\n",
    "    data = {\n",
    "        \"dst\": host,\n",
    "        \"response_type\": None,\n",
    "        \"rtt_ms\": None,\n",
    "        \"len\": None,\n",
    "        \"ttl\": None\n",
    "    }\n",
    "    \n",
    "    print(f\"Pinging {host}...\")\n",
    "\n",
    "    packet = IP(dst=host)/ICMP(type=8) # Echo Request\n",
    "    \n",
    "    inicio = time.time()\n",
    "    response = sr1(packet, timeout=10, verbose=False) # sr1: envío y espero una sola respuesta\n",
    "    fin = time.time()\n",
    "    \n",
    "    if response:\n",
    "\n",
    "        icmp_layer = response.getlayer(ICMP)\n",
    "\n",
    "        code = icmp_layer.code\n",
    "\n",
    "        rtt_ms = (fin - inicio) * 1000 # RTT en milisegundos\n",
    "        data[\"rtt_ms\"] = rtt_ms\n",
    "        data[\"len\"] = response.len\n",
    "        data[\"ttl\"] = response.ttl\n",
    "        data[\"response_type\"] = response.type\n",
    "\n",
    "        if response.type == 3: \n",
    "            print(f\"Destino {host} inalcanzable: \" + codigos[code])\n",
    "        \n",
    "        elif response.type == 0: # Si la respuesta es echo reply\n",
    "            print(f\"Echo-reply recibida de {host}\")\n",
    "\n",
    "        else:\n",
    "            print(f\"Respuesta ICMP recibida de tipo {response.type}, código {icmp_layer.code}\")\n",
    "\n",
    "    else:\n",
    "        print(f\"No se recibió respuesta de {host}\")\n",
    "\n",
    "    return data"
   ]
  },
  {
   "cell_type": "code",
   "execution_count": null,
   "id": "b154d3de",
   "metadata": {},
   "outputs": [],
   "source": [
    "def ping_multiple(host, cantidad_paquetes):\n",
    "\n",
    "    res = dict()\n",
    "    sent_packets = cantidad_paquetes\n",
    "    received_packets = 0\n",
    "    lost_packets = 0\n",
    "    total_rtt = 0\n",
    "    min_rtt = float('inf')\n",
    "    max_rtt = float('-inf')\n",
    "    lista_rtts = []\n",
    "    \n",
    "    for i in range(cantidad_paquetes):\n",
    "\n",
    "        resultado = ping(host)\n",
    "\n",
    "        if resultado[\"response_type\"] == 0: \n",
    "            received_packets += 1\n",
    "            total_rtt += resultado[\"rtt_ms\"]\n",
    "            min_rtt = min(min_rtt, resultado[\"rtt_ms\"])\n",
    "            max_rtt = max(max_rtt, resultado[\"rtt_ms\"])\n",
    "            lista_rtts.append(resultado[\"rtt_ms\"])\n",
    "\n",
    "        else:\n",
    "            lost_packets += 1 # Si el destino es inalcanzable o no se recibe respuesta, el ping se considera perdido\n",
    "\n",
    "    res[\"host\"] = host\n",
    "    res[\"Paquetes enviados\"] = sent_packets\n",
    "    res[\"Paquetes recibidos\"] = received_packets\n",
    "    res[\"Paquetes perdidos\"] = lost_packets\n",
    "    res[\"Porcentaje de paquetes perdidos\"] = (lost_packets / sent_packets) \n",
    "    res[\"RTT total\"] = total_rtt if received_packets > 0 else None\n",
    "    res[\"RTT mínimo\"] = min_rtt if min_rtt != float('inf') else None\n",
    "    res[\"RTT máximo\"] = max_rtt if max_rtt != float('-inf') else None\n",
    "    res[\"RTT promedio\"] = total_rtt / received_packets if received_packets > 0 else None\n",
    "    res[\"Desvió estándar del RTT promedio\"] = statistics.stdev(lista_rtts) if len(lista_rtts) > 1 else None\n",
    "    \n",
    "    return res"
   ]
  },
  {
   "cell_type": "code",
   "execution_count": null,
   "id": "22445bf0",
   "metadata": {},
   "outputs": [],
   "source": [
    "ping('utdt.edu.ar')"
   ]
  },
  {
   "cell_type": "markdown",
   "id": "c1b20695",
   "metadata": {},
   "source": [
    "Contactamos a 5 universidades de continentes distintos. También contactamos a UTDT para ver las diferencias."
   ]
  },
  {
   "cell_type": "code",
   "execution_count": null,
   "id": "25497061",
   "metadata": {},
   "outputs": [],
   "source": [
    "ping_multiple('utdt.edu.ar', 5)"
   ]
  },
  {
   "cell_type": "code",
   "execution_count": null,
   "id": "aca12d28",
   "metadata": {},
   "outputs": [],
   "source": [
    "ping_multiple('mit.edu', 5)"
   ]
  },
  {
   "cell_type": "code",
   "execution_count": null,
   "id": "01964b2e",
   "metadata": {},
   "outputs": [],
   "source": [
    "ping_multiple('ie.edu', 5)"
   ]
  },
  {
   "cell_type": "code",
   "execution_count": null,
   "id": "e3bb0ec7",
   "metadata": {},
   "outputs": [],
   "source": [
    "ping_multiple('sydney.edu.au', 5)"
   ]
  },
  {
   "cell_type": "code",
   "execution_count": null,
   "id": "cf0b1573",
   "metadata": {},
   "outputs": [],
   "source": [
    "ping_multiple('cuhk.edu.cn', 5)"
   ]
  },
  {
   "cell_type": "code",
   "execution_count": null,
   "id": "5c3e294f",
   "metadata": {},
   "outputs": [],
   "source": [
    "ping_multiple('uniben.edu', 5)"
   ]
  }
 ],
 "metadata": {
  "kernelspec": {
   "display_name": "td6",
   "language": "python",
   "name": "python3"
  },
  "language_info": {
   "codemirror_mode": {
    "name": "ipython",
    "version": 3
   },
   "file_extension": ".py",
   "mimetype": "text/x-python",
   "name": "python",
   "nbconvert_exporter": "python",
   "pygments_lexer": "ipython3",
   "version": "3.13.2"
  }
 },
 "nbformat": 4,
 "nbformat_minor": 5
}
