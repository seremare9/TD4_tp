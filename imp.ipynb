{
 "cells": [
  {
   "cell_type": "code",
   "execution_count": 10,
   "id": "e6b0b55c",
   "metadata": {},
   "outputs": [],
   "source": [
    "from scapy.all import * \n",
    "from scapy.all import ICMP, IP\n",
    "import time\n",
    "import statistics"
   ]
  },
  {
   "cell_type": "markdown",
   "id": "a2677e2b",
   "metadata": {},
   "source": [
    "Creamos una función ping que envía echo_request al host pasado por parámetro. La función devuelve un diccionario que contiene la siguiente información:\n",
    "\n",
    "* dst: Host contactado\n",
    "* response: True si se obtuvo respuesta; False en caso contrario\n",
    "* rtt_us: RTT en milisegundos (None si no se obtuvo respuesta)\n",
    "* len: Longitud del paquete recibido (None si no se obtuvo respuesta)\n",
    "* ttl: Time to live del paquete recibido (None si no se obtuvo respuesta)\n"
   ]
  },
  {
   "cell_type": "code",
   "execution_count": 11,
   "id": "b2542d34",
   "metadata": {},
   "outputs": [],
   "source": [
    "def ping(host): \n",
    "\n",
    "    # Diccionario de códigos ICMP para respuestas de tipo 3 (Destino inalcanzable)\n",
    "    codigos = {\n",
    "        0: \"Red de destino inalcanzable\",\n",
    "        1: \"Host de destino inalcanzable\",\n",
    "        2: \"Protocolo inalcanzable\",\n",
    "        3: \"Puerto inalcanzable\",\n",
    "        4: \"Fragmentación requerida y DF activado\",\n",
    "        5: \"Ruta de origen fallida\"}\n",
    "    \n",
    "    # Creo diccionario con valores por defecto\n",
    "    data = {\n",
    "        \"dst\": host,\n",
    "        \"response_type\": None,\n",
    "        \"rtt_ms\": None,\n",
    "        \"len\": None,\n",
    "        \"ttl\": None\n",
    "    }\n",
    "    \n",
    "    print(f\"Pinging {host}...\")\n",
    "\n",
    "    packet = IP(dst=host)/ICMP(type=8) # Echo Request\n",
    "    \n",
    "    inicio = time.time()\n",
    "    response = sr1(packet, timeout=10, verbose=False) # sr1: envío y espero una sola respuesta\n",
    "    fin = time.time()\n",
    "    \n",
    "    if response:\n",
    "\n",
    "        icmp_layer = response.getlayer(ICMP)\n",
    "\n",
    "        code = icmp_layer.code\n",
    "\n",
    "        rtt_ms = (fin - inicio) * 1000 # RTT en milisegundos\n",
    "        data[\"rtt_ms\"] = rtt_ms\n",
    "        data[\"len\"] = response.len\n",
    "        data[\"ttl\"] = response.ttl\n",
    "        data[\"response_type\"] = response.type\n",
    "\n",
    "        if response.type == 3: \n",
    "            print(f\"Destino {host} inalcanzable: \" + codigos[code])\n",
    "        \n",
    "        elif response.type == 0: # Si la respuesta es echo reply\n",
    "            print(f\"Echo-reply recibida de {host}\")\n",
    "\n",
    "        else:\n",
    "            print(f\"Respuesta ICMP recibida de tipo {response.type}, código {icmp_layer.code}\")\n",
    "\n",
    "    else:\n",
    "        print(f\"No se recibió respuesta de {host}\")\n",
    "\n",
    "    return data"
   ]
  },
  {
   "cell_type": "code",
   "execution_count": 12,
   "id": "b154d3de",
   "metadata": {},
   "outputs": [],
   "source": [
    "def ping_multiple(host, cantidad_paquetes):\n",
    "\n",
    "    res = dict()\n",
    "    sent_packets = cantidad_paquetes\n",
    "    received_packets = 0\n",
    "    lost_packets = 0\n",
    "    total_rtt = 0\n",
    "    min_rtt = float('inf')\n",
    "    max_rtt = float('-inf')\n",
    "    lista_rtts = []\n",
    "    \n",
    "    for i in range(cantidad_paquetes):\n",
    "\n",
    "        resultado = ping(host)\n",
    "\n",
    "        # print(resultado) # podemos descomentar para ver el resultado de cada ping\n",
    "\n",
    "        if resultado[\"response_type\"] == 0: \n",
    "            received_packets += 1\n",
    "            total_rtt += resultado[\"rtt_ms\"]\n",
    "            min_rtt = min(min_rtt, resultado[\"rtt_ms\"])\n",
    "            max_rtt = max(max_rtt, resultado[\"rtt_ms\"])\n",
    "            lista_rtts.append(resultado[\"rtt_ms\"])\n",
    "\n",
    "        else:\n",
    "            lost_packets += 1 # Si el destino es inalcanzable o no se recibe respuesta, el ping se considera perdido\n",
    "\n",
    "    res[\"host\"] = host\n",
    "    res[\"Paquetes enviados\"] = sent_packets\n",
    "    res[\"Paquetes recibidos\"] = received_packets\n",
    "    res[\"Paquetes perdidos\"] = lost_packets\n",
    "    res[\"Porcentaje de paquetes perdidos\"] = (lost_packets / sent_packets) \n",
    "    res[\"RTT total\"] = total_rtt if received_packets > 0 else None\n",
    "    res[\"RTT mínimo\"] = min_rtt if min_rtt != float('inf') else None\n",
    "    res[\"RTT máximo\"] = max_rtt if max_rtt != float('-inf') else None\n",
    "    res[\"RTT promedio\"] = total_rtt / received_packets if received_packets > 0 else None\n",
    "    res[\"Desvió estándar del RTT promedio\"] = statistics.stdev(lista_rtts) if len(lista_rtts) > 1 else None\n",
    "    \n",
    "    return res"
   ]
  },
  {
   "cell_type": "markdown",
   "id": "c1b20695",
   "metadata": {},
   "source": [
    "Contactamos a 5 universidades de continentes distintos. También contactamos a UTDT para ver las diferencias."
   ]
  },
  {
   "cell_type": "code",
   "execution_count": 13,
   "id": "25497061",
   "metadata": {},
   "outputs": [
    {
     "name": "stdout",
     "output_type": "stream",
     "text": [
      "Pinging utdt.edu.ar...\n",
      "Echo-reply recibida de utdt.edu.ar\n",
      "Pinging utdt.edu.ar...\n",
      "Echo-reply recibida de utdt.edu.ar\n",
      "Pinging utdt.edu.ar...\n",
      "Echo-reply recibida de utdt.edu.ar\n",
      "Pinging utdt.edu.ar...\n",
      "Echo-reply recibida de utdt.edu.ar\n",
      "Pinging utdt.edu.ar...\n",
      "Echo-reply recibida de utdt.edu.ar\n"
     ]
    },
    {
     "data": {
      "text/plain": [
       "{'host': 'utdt.edu.ar',\n",
       " 'Paquetes enviados': 5,\n",
       " 'Paquetes recibidos': 5,\n",
       " 'Paquetes perdidos': 0,\n",
       " 'Porcentaje de paquetes perdidos': 0.0,\n",
       " 'RTT total': 492.8760528564453,\n",
       " 'RTT mínimo': 65.11902809143066,\n",
       " 'RTT máximo': 125.74291229248047,\n",
       " 'RTT promedio': 98.57521057128906,\n",
       " 'Desvió estándar del RTT promedio': 30.527201587399055}"
      ]
     },
     "execution_count": 13,
     "metadata": {},
     "output_type": "execute_result"
    }
   ],
   "source": [
    "ping_multiple('utdt.edu.ar', 5)\n"
   ]
  },
  {
   "cell_type": "code",
   "execution_count": 14,
   "id": "aca12d28",
   "metadata": {},
   "outputs": [
    {
     "name": "stdout",
     "output_type": "stream",
     "text": [
      "Pinging mit.edu...\n",
      "Echo-reply recibida de mit.edu\n",
      "Pinging mit.edu...\n",
      "Echo-reply recibida de mit.edu\n",
      "Pinging mit.edu...\n",
      "Echo-reply recibida de mit.edu\n",
      "Pinging mit.edu...\n",
      "Echo-reply recibida de mit.edu\n",
      "Pinging mit.edu...\n",
      "Echo-reply recibida de mit.edu\n"
     ]
    },
    {
     "data": {
      "text/plain": [
       "{'host': 'mit.edu',\n",
       " 'Paquetes enviados': 5,\n",
       " 'Paquetes recibidos': 5,\n",
       " 'Paquetes perdidos': 0,\n",
       " 'Porcentaje de paquetes perdidos': 0.0,\n",
       " 'RTT total': 520.2734470367432,\n",
       " 'RTT mínimo': 58.95209312438965,\n",
       " 'RTT máximo': 152.32300758361816,\n",
       " 'RTT promedio': 104.05468940734863,\n",
       " 'Desvió estándar del RTT promedio': 41.237935097721476}"
      ]
     },
     "execution_count": 14,
     "metadata": {},
     "output_type": "execute_result"
    }
   ],
   "source": [
    "ping_multiple('mit.edu', 5)"
   ]
  },
  {
   "cell_type": "code",
   "execution_count": 15,
   "id": "01964b2e",
   "metadata": {},
   "outputs": [
    {
     "name": "stdout",
     "output_type": "stream",
     "text": [
      "Pinging ie.edu...\n",
      "Echo-reply recibida de ie.edu\n",
      "Pinging ie.edu...\n",
      "Echo-reply recibida de ie.edu\n",
      "Pinging ie.edu...\n",
      "Echo-reply recibida de ie.edu\n",
      "Pinging ie.edu...\n",
      "Echo-reply recibida de ie.edu\n",
      "Pinging ie.edu...\n",
      "Echo-reply recibida de ie.edu\n"
     ]
    },
    {
     "data": {
      "text/plain": [
       "{'host': 'ie.edu',\n",
       " 'Paquetes enviados': 5,\n",
       " 'Paquetes recibidos': 5,\n",
       " 'Paquetes perdidos': 0,\n",
       " 'Porcentaje de paquetes perdidos': 0.0,\n",
       " 'RTT total': 262.9408836364746,\n",
       " 'RTT mínimo': 19.60587501525879,\n",
       " 'RTT máximo': 120.11170387268066,\n",
       " 'RTT promedio': 52.58817672729492,\n",
       " 'Desvió estándar del RTT promedio': 40.91292658513064}"
      ]
     },
     "execution_count": 15,
     "metadata": {},
     "output_type": "execute_result"
    }
   ],
   "source": [
    "ping_multiple('ie.edu', 5)"
   ]
  },
  {
   "cell_type": "code",
   "execution_count": 16,
   "id": "e3bb0ec7",
   "metadata": {},
   "outputs": [
    {
     "name": "stdout",
     "output_type": "stream",
     "text": [
      "Pinging sydney.edu.au...\n",
      "Echo-reply recibida de sydney.edu.au\n",
      "Pinging sydney.edu.au...\n",
      "Echo-reply recibida de sydney.edu.au\n",
      "Pinging sydney.edu.au...\n",
      "Echo-reply recibida de sydney.edu.au\n",
      "Pinging sydney.edu.au...\n",
      "Echo-reply recibida de sydney.edu.au\n",
      "Pinging sydney.edu.au...\n",
      "Echo-reply recibida de sydney.edu.au\n"
     ]
    },
    {
     "data": {
      "text/plain": [
       "{'host': 'sydney.edu.au',\n",
       " 'Paquetes enviados': 5,\n",
       " 'Paquetes recibidos': 5,\n",
       " 'Paquetes perdidos': 0,\n",
       " 'Porcentaje de paquetes perdidos': 0.0,\n",
       " 'RTT total': 2048.149585723877,\n",
       " 'RTT mínimo': 342.5297737121582,\n",
       " 'RTT máximo': 549.3576526641846,\n",
       " 'RTT promedio': 409.6299171447754,\n",
       " 'Desvió estándar del RTT promedio': 92.29536654628816}"
      ]
     },
     "execution_count": 16,
     "metadata": {},
     "output_type": "execute_result"
    }
   ],
   "source": [
    "ping_multiple('sydney.edu.au', 5)"
   ]
  },
  {
   "cell_type": "code",
   "execution_count": 17,
   "id": "cf0b1573",
   "metadata": {},
   "outputs": [
    {
     "name": "stdout",
     "output_type": "stream",
     "text": [
      "Pinging cuhk.edu.cn...\n",
      "Echo-reply recibida de cuhk.edu.cn\n",
      "Pinging cuhk.edu.cn...\n",
      "Echo-reply recibida de cuhk.edu.cn\n",
      "Pinging cuhk.edu.cn...\n",
      "Echo-reply recibida de cuhk.edu.cn\n",
      "Pinging cuhk.edu.cn...\n",
      "Echo-reply recibida de cuhk.edu.cn\n",
      "Pinging cuhk.edu.cn...\n",
      "Echo-reply recibida de cuhk.edu.cn\n"
     ]
    },
    {
     "data": {
      "text/plain": [
       "{'host': 'cuhk.edu.cn',\n",
       " 'Paquetes enviados': 5,\n",
       " 'Paquetes recibidos': 5,\n",
       " 'Paquetes perdidos': 0,\n",
       " 'Porcentaje de paquetes perdidos': 0.0,\n",
       " 'RTT total': 1716.3801193237305,\n",
       " 'RTT mínimo': 331.2041759490967,\n",
       " 'RTT máximo': 357.44190216064453,\n",
       " 'RTT promedio': 343.2760238647461,\n",
       " 'Desvió estándar del RTT promedio': 13.07432881450729}"
      ]
     },
     "execution_count": 17,
     "metadata": {},
     "output_type": "execute_result"
    }
   ],
   "source": [
    "ping_multiple('cuhk.edu.cn', 5)"
   ]
  },
  {
   "cell_type": "code",
   "execution_count": 18,
   "id": "5c3e294f",
   "metadata": {},
   "outputs": [
    {
     "name": "stdout",
     "output_type": "stream",
     "text": [
      "Pinging uniben.edu...\n",
      "Echo-reply recibida de uniben.edu\n",
      "Pinging uniben.edu...\n",
      "Echo-reply recibida de uniben.edu\n",
      "Pinging uniben.edu...\n",
      "Echo-reply recibida de uniben.edu\n",
      "Pinging uniben.edu...\n",
      "Echo-reply recibida de uniben.edu\n",
      "Pinging uniben.edu...\n",
      "Echo-reply recibida de uniben.edu\n"
     ]
    },
    {
     "data": {
      "text/plain": [
       "{'host': 'uniben.edu',\n",
       " 'Paquetes enviados': 5,\n",
       " 'Paquetes recibidos': 5,\n",
       " 'Paquetes perdidos': 0,\n",
       " 'Porcentaje de paquetes perdidos': 0.0,\n",
       " 'RTT total': 396.09313011169434,\n",
       " 'RTT mínimo': 21.183013916015625,\n",
       " 'RTT máximo': 186.10000610351562,\n",
       " 'RTT promedio': 79.21862602233887,\n",
       " 'Desvió estándar del RTT promedio': 63.15631002447692}"
      ]
     },
     "execution_count": 18,
     "metadata": {},
     "output_type": "execute_result"
    }
   ],
   "source": [
    "ping_multiple('uniben.edu', 5)"
   ]
  },
  {
   "cell_type": "code",
   "execution_count": 19,
   "id": "124ce7e5",
   "metadata": {},
   "outputs": [
    {
     "name": "stdout",
     "output_type": "stream",
     "text": [
      "Pinging alexu.edu.eg...\n",
      "No se recibió respuesta de alexu.edu.eg\n",
      "Pinging alexu.edu.eg...\n",
      "No se recibió respuesta de alexu.edu.eg\n",
      "Pinging alexu.edu.eg...\n",
      "No se recibió respuesta de alexu.edu.eg\n",
      "Pinging alexu.edu.eg...\n",
      "No se recibió respuesta de alexu.edu.eg\n",
      "Pinging alexu.edu.eg...\n",
      "No se recibió respuesta de alexu.edu.eg\n"
     ]
    },
    {
     "data": {
      "text/plain": [
       "{'host': 'alexu.edu.eg',\n",
       " 'Paquetes enviados': 5,\n",
       " 'Paquetes recibidos': 0,\n",
       " 'Paquetes perdidos': 5,\n",
       " 'Porcentaje de paquetes perdidos': 1.0,\n",
       " 'RTT total': None,\n",
       " 'RTT mínimo': None,\n",
       " 'RTT máximo': None,\n",
       " 'RTT promedio': None,\n",
       " 'Desvió estándar del RTT promedio': None}"
      ]
     },
     "execution_count": 19,
     "metadata": {},
     "output_type": "execute_result"
    }
   ],
   "source": [
    "ping_multiple('alexu.edu.eg', 5)"
   ]
  }
 ],
 "metadata": {
  "kernelspec": {
   "display_name": "base",
   "language": "python",
   "name": "python3"
  },
  "language_info": {
   "codemirror_mode": {
    "name": "ipython",
    "version": 3
   },
   "file_extension": ".py",
   "mimetype": "text/x-python",
   "name": "python",
   "nbconvert_exporter": "python",
   "pygments_lexer": "ipython3",
   "version": "3.9.13"
  }
 },
 "nbformat": 4,
 "nbformat_minor": 5
}
